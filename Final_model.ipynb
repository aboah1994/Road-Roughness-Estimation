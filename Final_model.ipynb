{
  "nbformat": 4,
  "nbformat_minor": 0,
  "metadata": {
    "kernelspec": {
      "display_name": "Python 3",
      "language": "python",
      "name": "python3"
    },
    "language_info": {
      "codemirror_mode": {
        "name": "ipython",
        "version": 3
      },
      "file_extension": ".py",
      "mimetype": "text/x-python",
      "name": "python",
      "nbconvert_exporter": "python",
      "pygments_lexer": "ipython3",
      "version": "3.6.10"
    },
    "colab": {
      "name": "Final_iri.ipynb",
      "provenance": []
    }
  },
  "cells": [
    {
      "cell_type": "code",
      "metadata": {
        "id": "AK2WoW-X7Mh1"
      },
      "source": [
        "%reload_ext autoreload\n",
        "%autoreload 2"
      ],
      "execution_count": null,
      "outputs": []
    },
    {
      "cell_type": "code",
      "metadata": {
        "id": "9a5m-2nR7Mh1",
        "outputId": "d2886caf-431d-4be7-aa04-ce71d8f7d1ab"
      },
      "source": [
        "from fastai.structured import *\n",
        "from fastai.column_data import *\n",
        "np.set_printoptions(threshold=50, edgeitems=20)"
      ],
      "execution_count": null,
      "outputs": [
        {
          "output_type": "stream",
          "text": [
            "/home/mizzou/anaconda3/envs/fastai/lib/python3.6/site-packages/dask/config.py:168: YAMLLoadWarning: calling yaml.load() without Loader=... is deprecated, as the default Loader is unsafe. Please read https://msg.pyyaml.org/load for full details.\n",
            "  data = yaml.load(f.read()) or {}\n",
            "\n",
            "Bad key \"text.kerning_factor\" on line 4 in\n",
            "/home/mizzou/anaconda3/envs/fastai/lib/python3.6/site-packages/matplotlib/mpl-data/stylelib/_classic_test_patch.mplstyle.\n",
            "You probably need to get an updated matplotlibrc file from\n",
            "https://github.com/matplotlib/matplotlib/blob/v3.1.3/matplotlibrc.template\n",
            "or from the matplotlib source distribution\n",
            "/home/mizzou/anaconda3/envs/fastai/lib/python3.6/site-packages/sklearn/utils/deprecation.py:144: FutureWarning: The sklearn.ensemble.forest module is  deprecated in version 0.22 and will be removed in version 0.24. The corresponding classes / functions should instead be imported from sklearn.ensemble. Anything that cannot be imported from sklearn.ensemble is now part of the private API.\n",
            "  warnings.warn(message, FutureWarning)\n"
          ],
          "name": "stderr"
        }
      ]
    },
    {
      "cell_type": "code",
      "metadata": {
        "id": "Zwa3dHA87Mh2"
      },
      "source": [
        "df=pd.read_csv('traindata1.csv')"
      ],
      "execution_count": null,
      "outputs": []
    },
    {
      "cell_type": "code",
      "metadata": {
        "id": "pnyVtxwM7Mh2"
      },
      "source": [
        "df_test_ori=pd.read_csv('df_test_ori.csv')"
      ],
      "execution_count": null,
      "outputs": []
    },
    {
      "cell_type": "code",
      "metadata": {
        "id": "yjFgppQT7Mh2",
        "outputId": "16b33dc8-290c-4213-9112-be174890fe50"
      },
      "source": [
        "df.head()"
      ],
      "execution_count": null,
      "outputs": [
        {
          "output_type": "execute_result",
          "data": {
            "text/html": [
              "<div>\n",
              "<style scoped>\n",
              "    .dataframe tbody tr th:only-of-type {\n",
              "        vertical-align: middle;\n",
              "    }\n",
              "\n",
              "    .dataframe tbody tr th {\n",
              "        vertical-align: top;\n",
              "    }\n",
              "\n",
              "    .dataframe thead th {\n",
              "        text-align: right;\n",
              "    }\n",
              "</style>\n",
              "<table border=\"1\" class=\"dataframe\">\n",
              "  <thead>\n",
              "    <tr style=\"text-align: right;\">\n",
              "      <th></th>\n",
              "      <th>speed</th>\n",
              "      <th>dominant_freq</th>\n",
              "      <th>strength</th>\n",
              "      <th>auc</th>\n",
              "      <th>sum</th>\n",
              "      <th>iri_18</th>\n",
              "      <th>iri</th>\n",
              "    </tr>\n",
              "  </thead>\n",
              "  <tbody>\n",
              "    <tr>\n",
              "      <td>0</td>\n",
              "      <td>67.0</td>\n",
              "      <td>6.031520</td>\n",
              "      <td>5.243716</td>\n",
              "      <td>77.880470</td>\n",
              "      <td>4.358868</td>\n",
              "      <td>47.590</td>\n",
              "      <td>48.311</td>\n",
              "    </tr>\n",
              "    <tr>\n",
              "      <td>1</td>\n",
              "      <td>67.0</td>\n",
              "      <td>4.857650</td>\n",
              "      <td>4.368738</td>\n",
              "      <td>77.387535</td>\n",
              "      <td>4.808348</td>\n",
              "      <td>51.017</td>\n",
              "      <td>53.297</td>\n",
              "    </tr>\n",
              "    <tr>\n",
              "      <td>2</td>\n",
              "      <td>66.0</td>\n",
              "      <td>5.029076</td>\n",
              "      <td>4.242908</td>\n",
              "      <td>68.315544</td>\n",
              "      <td>3.843514</td>\n",
              "      <td>55.600</td>\n",
              "      <td>60.407</td>\n",
              "    </tr>\n",
              "    <tr>\n",
              "      <td>3</td>\n",
              "      <td>65.0</td>\n",
              "      <td>12.823944</td>\n",
              "      <td>13.123000</td>\n",
              "      <td>222.031040</td>\n",
              "      <td>4.653536</td>\n",
              "      <td>51.541</td>\n",
              "      <td>55.120</td>\n",
              "    </tr>\n",
              "    <tr>\n",
              "      <td>4</td>\n",
              "      <td>65.0</td>\n",
              "      <td>4.630312</td>\n",
              "      <td>3.345422</td>\n",
              "      <td>57.393856</td>\n",
              "      <td>2.645581</td>\n",
              "      <td>66.616</td>\n",
              "      <td>164.691</td>\n",
              "    </tr>\n",
              "  </tbody>\n",
              "</table>\n",
              "</div>"
            ],
            "text/plain": [
              "   speed  dominant_freq   strength         auc       sum  iri_18      iri\n",
              "0   67.0       6.031520   5.243716   77.880470  4.358868  47.590   48.311\n",
              "1   67.0       4.857650   4.368738   77.387535  4.808348  51.017   53.297\n",
              "2   66.0       5.029076   4.242908   68.315544  3.843514  55.600   60.407\n",
              "3   65.0      12.823944  13.123000  222.031040  4.653536  51.541   55.120\n",
              "4   65.0       4.630312   3.345422   57.393856  2.645581  66.616  164.691"
            ]
          },
          "metadata": {
            "tags": []
          },
          "execution_count": 5
        }
      ]
    },
    {
      "cell_type": "code",
      "metadata": {
        "id": "Kw5Jxmwi7Mh2",
        "outputId": "d26f8017-6467-4a96-ef7f-679e5aae0cfb"
      },
      "source": [
        "cat_vars = ['speed']\n",
        "\n",
        "contin_vars = ['dominant_freq', 'strength','auc','sum','iri_18']\n",
        "\n",
        "# contin_vars = ['dominant_freq', 'mean_freq', 'std_freq', 'max_power',\n",
        "#    'mean_power', 'std_power','strength','p_auc']\n",
        "\n",
        "n = len(df); n"
      ],
      "execution_count": null,
      "outputs": [
        {
          "output_type": "execute_result",
          "data": {
            "text/plain": [
              "406"
            ]
          },
          "metadata": {
            "tags": []
          },
          "execution_count": 6
        }
      ]
    },
    {
      "cell_type": "code",
      "metadata": {
        "id": "clwQqgCu7Mh2"
      },
      "source": [
        "joined = df\n",
        "dep = 'iri'\n",
        "joined = joined[cat_vars+contin_vars+[dep]].copy()\n",
        "\n",
        "joined_test = df_test_ori\n",
        "joined_test[dep] = 0\n",
        "joined_test = joined_test[cat_vars+contin_vars+[dep]].copy()"
      ],
      "execution_count": null,
      "outputs": []
    },
    {
      "cell_type": "code",
      "metadata": {
        "id": "-6VcGBgZ7Mh2"
      },
      "source": [
        "for v in cat_vars: joined[v] = joined[v].astype('category').cat.as_ordered()\n",
        "apply_cats(joined_test, joined)"
      ],
      "execution_count": null,
      "outputs": []
    },
    {
      "cell_type": "code",
      "metadata": {
        "id": "mDPVJ6zM7Mh2"
      },
      "source": [
        "for v in contin_vars:\n",
        "    joined[v] = joined[v].fillna(0).astype('float32')\n",
        "    joined_test[v] = joined_test[v].fillna(0).astype('float32')"
      ],
      "execution_count": null,
      "outputs": []
    },
    {
      "cell_type": "code",
      "metadata": {
        "id": "WPA646QG7Mh2",
        "outputId": "82625814-2ed6-4530-c53b-de40b33f1ae9"
      },
      "source": [
        "idxs = get_cv_idxs(n, val_pct=150000/n)\n",
        "joined_samp = joined\n",
        "samp_size = len(joined_samp); samp_size"
      ],
      "execution_count": null,
      "outputs": [
        {
          "output_type": "execute_result",
          "data": {
            "text/plain": [
              "406"
            ]
          },
          "metadata": {
            "tags": []
          },
          "execution_count": 10
        }
      ]
    },
    {
      "cell_type": "code",
      "metadata": {
        "id": "OFZwM-TJ7Mh2"
      },
      "source": [
        "samp_size = n"
      ],
      "execution_count": null,
      "outputs": []
    },
    {
      "cell_type": "code",
      "metadata": {
        "id": "6B1GQaYO7Mh2"
      },
      "source": [
        "df, y, nas, mapper = proc_df(joined_samp, 'iri', do_scale=True)\n",
        "yl = np.log(y)"
      ],
      "execution_count": null,
      "outputs": []
    },
    {
      "cell_type": "code",
      "metadata": {
        "id": "HOmD_aLO7Mh2"
      },
      "source": [
        "df_test, _, nas, mapper = proc_df(joined_test, 'iri', do_scale=True, mapper=mapper, na_dict=nas)"
      ],
      "execution_count": null,
      "outputs": []
    },
    {
      "cell_type": "code",
      "metadata": {
        "id": "La4ytSBZ7Mh2"
      },
      "source": [
        "#train_ratio = 0.80\n",
        "train_ratio = 0.9\n",
        "train_size = int(samp_size * train_ratio); train_size\n",
        "val_idx = list(range(train_size, len(df)))"
      ],
      "execution_count": null,
      "outputs": []
    },
    {
      "cell_type": "code",
      "metadata": {
        "id": "pBzpkW_l7Mh2",
        "outputId": "e3156411-3ccc-4e60-8481-3d03f4485b2c"
      },
      "source": [
        "train_size"
      ],
      "execution_count": null,
      "outputs": [
        {
          "output_type": "execute_result",
          "data": {
            "text/plain": [
              "365"
            ]
          },
          "metadata": {
            "tags": []
          },
          "execution_count": 15
        }
      ]
    },
    {
      "cell_type": "code",
      "metadata": {
        "id": "vp1XJ1m97Mh2"
      },
      "source": [
        "def inv_y(a): return np.exp(a)\n",
        "\n",
        "def exp_rmspe(y_pred, targ):\n",
        "    targ = inv_y(targ)\n",
        "    pct_var = (targ - inv_y(y_pred))/targ\n",
        "    return math.sqrt((pct_var**2).mean())\n",
        "\n",
        "max_log_y = np.max(yl)\n",
        "y_range = (0, max_log_y*1.2)"
      ],
      "execution_count": null,
      "outputs": []
    },
    {
      "cell_type": "code",
      "metadata": {
        "id": "sCvOoWvv7Mh3"
      },
      "source": [
        "PATH = '.../rough_app/PyEMD/results/models'\n",
        "md = ColumnarModelData.from_data_frame(PATH, val_idx, df, yl.astype(np.float32), cat_flds=cat_vars, bs=16,\n",
        "                                       test_df=df_test)"
      ],
      "execution_count": null,
      "outputs": []
    },
    {
      "cell_type": "code",
      "metadata": {
        "id": "BVqkSdX77Mh3"
      },
      "source": [
        "cat_sz = [(c, len(joined_samp[c].cat.categories)+1) for c in cat_vars]"
      ],
      "execution_count": null,
      "outputs": []
    },
    {
      "cell_type": "code",
      "metadata": {
        "id": "xknjuGzR7Mh3",
        "outputId": "e5cbc79f-797b-45fd-8d82-6046623e8723"
      },
      "source": [
        "cat_sz"
      ],
      "execution_count": null,
      "outputs": [
        {
          "output_type": "execute_result",
          "data": {
            "text/plain": [
              "[('speed', 25)]"
            ]
          },
          "metadata": {
            "tags": []
          },
          "execution_count": 19
        }
      ]
    },
    {
      "cell_type": "code",
      "metadata": {
        "id": "pkx5uym-7Mh3"
      },
      "source": [
        "emb_szs = [(c, min(50, (c+1)//2)) for _,c in cat_sz]"
      ],
      "execution_count": null,
      "outputs": []
    },
    {
      "cell_type": "code",
      "metadata": {
        "id": "oUlI5hm37Mh3",
        "outputId": "646d9e15-0f33-4780-cc94-bedb4d7226d0"
      },
      "source": [
        "emb_szs"
      ],
      "execution_count": null,
      "outputs": [
        {
          "output_type": "execute_result",
          "data": {
            "text/plain": [
              "[(25, 13)]"
            ]
          },
          "metadata": {
            "tags": []
          },
          "execution_count": 21
        }
      ]
    },
    {
      "cell_type": "code",
      "metadata": {
        "id": "Cl1ePpg_7Mh3"
      },
      "source": [
        "m = md.get_learner(emb_szs, len(df.columns)-len(cat_vars),\n",
        "                   0.04, 1, [1000,500], [0.001,0.01], y_range=y_range)"
      ],
      "execution_count": null,
      "outputs": []
    },
    {
      "cell_type": "code",
      "metadata": {
        "colab": {
          "referenced_widgets": [
            "12460e2220ef4a4e9875b917a9c33674"
          ]
        },
        "id": "uG5uRCNj7Mh3",
        "outputId": "59ea23f7-536a-4297-b0b3-9a1a8d269c12"
      },
      "source": [
        "lr = 1e-4\n",
        "m.lr_find()"
      ],
      "execution_count": null,
      "outputs": [
        {
          "output_type": "display_data",
          "data": {
            "application/vnd.jupyter.widget-view+json": {
              "model_id": "12460e2220ef4a4e9875b917a9c33674",
              "version_major": 2,
              "version_minor": 0
            },
            "text/plain": [
              "HBox(children=(FloatProgress(value=0.0, description='Epoch', max=1.0, style=ProgressStyle(description_width='i…"
            ]
          },
          "metadata": {
            "tags": []
          }
        },
        {
          "output_type": "stream",
          "text": [
            "epoch      trn_loss   val_loss                   \n",
            "    0      3.750432   13.299912 \n",
            "\n"
          ],
          "name": "stdout"
        }
      ]
    },
    {
      "cell_type": "code",
      "metadata": {
        "id": "BFTceKzs7Mh3"
      },
      "source": [
        "m = md.get_learner(emb_szs, len(df.columns)-len(cat_vars),\n",
        "                   0.04, 1, [1000,500], [0.001,0.01], y_range=y_range)\n",
        "lr = 1e-3"
      ],
      "execution_count": null,
      "outputs": []
    },
    {
      "cell_type": "code",
      "metadata": {
        "colab": {
          "referenced_widgets": [
            "efdae0fa0ada4d2593d1e607d4ad48af"
          ]
        },
        "id": "jk_EAGIM7Mh3",
        "outputId": "309dfa85-219a-423c-9cea-9c8148af952b"
      },
      "source": [
        "m.fit(lr, 3, metrics=[exp_rmspe])"
      ],
      "execution_count": null,
      "outputs": [
        {
          "output_type": "display_data",
          "data": {
            "application/vnd.jupyter.widget-view+json": {
              "model_id": "efdae0fa0ada4d2593d1e607d4ad48af",
              "version_major": 2,
              "version_minor": 0
            },
            "text/plain": [
              "HBox(children=(FloatProgress(value=0.0, description='Epoch', max=3.0, style=ProgressStyle(description_width='i…"
            ]
          },
          "metadata": {
            "tags": []
          }
        },
        {
          "output_type": "stream",
          "text": [
            "epoch      trn_loss   val_loss   exp_rmspe       \n",
            "    0      0.517777   1.751982   2.910654  \n",
            "    1      0.420357   0.223014   0.696094        \n",
            "    2      0.313841   0.084381   0.32333         \n",
            "\n"
          ],
          "name": "stdout"
        },
        {
          "output_type": "execute_result",
          "data": {
            "text/plain": [
              "[0.0843813794596893, 0.32333044471032046]"
            ]
          },
          "metadata": {
            "tags": []
          },
          "execution_count": 26
        }
      ]
    },
    {
      "cell_type": "code",
      "metadata": {
        "colab": {
          "referenced_widgets": [
            "20e3b5389a204b5dbc9eaf67ff596b3f"
          ]
        },
        "id": "E8LCO95C7Mh3",
        "outputId": "8beb8020-26a2-474c-e584-48bde881d918"
      },
      "source": [
        "m.fit(lr, 10, metrics=[exp_rmspe], cycle_len=2)"
      ],
      "execution_count": null,
      "outputs": [
        {
          "output_type": "display_data",
          "data": {
            "application/vnd.jupyter.widget-view+json": {
              "model_id": "20e3b5389a204b5dbc9eaf67ff596b3f",
              "version_major": 2,
              "version_minor": 0
            },
            "text/plain": [
              "HBox(children=(FloatProgress(value=0.0, description='Epoch', max=20.0, style=ProgressStyle(description_width='…"
            ]
          },
          "metadata": {
            "tags": []
          }
        },
        {
          "output_type": "stream",
          "text": [
            "epoch      trn_loss   val_loss   exp_rmspe       \n",
            "    0      0.034669   0.122452   0.272263  \n",
            "    1      0.03193    0.044301   0.244792        \n",
            "    2      0.032093   0.037369   0.196871        \n",
            "    3      0.025069   0.030012   0.16956         \n",
            "    4      0.024284   0.029194   0.166617        \n",
            "    5      0.020157   0.029565   0.165529        \n",
            "    6      0.019265   0.031934   0.160749        \n",
            "    7      0.01741    0.033019   0.186783        \n",
            "    8      0.020512   0.054427   0.265994        \n",
            "    9      0.019725   0.031862   0.191069        \n",
            "    10     0.018358   0.033285   0.194229        \n",
            "    11     0.016305   0.030454   0.179515        \n",
            "    12     0.016457   0.036995   0.229995        \n",
            "    13     0.014943   0.032174   0.181765        \n",
            "    14     0.01592    0.033605   0.175781        \n",
            "    15     0.01465    0.031703   0.181382        \n",
            "    16     0.013347   0.030505   0.181443        \n",
            "    17     0.012193   0.031183   0.177107        \n",
            "    18     0.014819   0.050074   0.222222        \n",
            "    19     0.014918   0.031822   0.173716        \n",
            "\n"
          ],
          "name": "stdout"
        },
        {
          "output_type": "execute_result",
          "data": {
            "text/plain": [
              "[0.03182205794061103, 0.17371594703160875]"
            ]
          },
          "metadata": {
            "tags": []
          },
          "execution_count": 29
        }
      ]
    },
    {
      "cell_type": "code",
      "metadata": {
        "id": "zOFSUcHd7Mh3",
        "outputId": "50cd185d-6fb9-4636-acba-51373f3f4090"
      },
      "source": [
        "pwd"
      ],
      "execution_count": null,
      "outputs": [
        {
          "output_type": "execute_result",
          "data": {
            "text/plain": [
              "'/home/mizzou/fastai/old'"
            ]
          },
          "metadata": {
            "tags": []
          },
          "execution_count": 93
        }
      ]
    },
    {
      "cell_type": "code",
      "metadata": {
        "id": "DseQlh9K7Mh3"
      },
      "source": [
        "filename='final_model1.sav'\n",
        "pickle.dump(m,open(filename,'wb'))"
      ],
      "execution_count": null,
      "outputs": []
    },
    {
      "cell_type": "code",
      "metadata": {
        "id": "lXXk_h0v7Mh3"
      },
      "source": [
        "lmodel=pickle.load(open('.../fastai/old/final_model1.sav','rb'))"
      ],
      "execution_count": null,
      "outputs": []
    },
    {
      "cell_type": "code",
      "metadata": {
        "id": "y9T4TWRb7Mh3"
      },
      "source": [
        "iri_val = df_test_ori['iri'].values\n",
        "pred_val = []\n",
        "errors = []\n",
        "for cur_row,ori in zip(lmodel.data.test_ds,iri_val):\n",
        "    predictions = np.exp(predict_single_record(m,cur_row))[0][0]\n",
        "    errors.append(math.sqrt((ori-predictions)**2))\n",
        "    pred_val.append(predictions)\n",
        "\n",
        "print ('sum of prediction errors: ' + str(np.mean(errors)))\n",
        "fig= plt.figure()\n",
        "plt.plot(iri_vals,'k',label='true')\n",
        "plt.plot(pred_vals,'r', label='predicted')\n",
        "plt.legend(loc=\"upper left\")\n",
        "plt.show()\n",
        "#fig.savefig('time.png')\n",
        "\n",
        "fig= plt.figure()\n",
        "plt.plot(errors)\n",
        "plt.show()\n",
        "#fig.savefig('tim3.png')\n"
      ],
      "execution_count": 1,
      "outputs": []
    },
    {
      "cell_type": "code",
      "metadata": {
        "id": "Cvx95P-R7Mh3"
      },
      "source": [
        "import matplotlib.pyplot as plt"
      ],
      "execution_count": null,
      "outputs": []
    },
    {
      "cell_type": "code",
      "metadata": {
        "id": "cWiEAv367Mh3",
        "outputId": "9344a26a-904c-4a61-c8eb-5633bfb3e8a8"
      },
      "source": [
        "df_test_ori = pd.read_csv('df_test_ori.csv')\n",
        "df_test_ori.head(10)"
      ],
      "execution_count": null,
      "outputs": [
        {
          "output_type": "execute_result",
          "data": {
            "text/html": [
              "<div>\n",
              "<style scoped>\n",
              "    .dataframe tbody tr th:only-of-type {\n",
              "        vertical-align: middle;\n",
              "    }\n",
              "\n",
              "    .dataframe tbody tr th {\n",
              "        vertical-align: top;\n",
              "    }\n",
              "\n",
              "    .dataframe thead th {\n",
              "        text-align: right;\n",
              "    }\n",
              "</style>\n",
              "<table border=\"1\" class=\"dataframe\">\n",
              "  <thead>\n",
              "    <tr style=\"text-align: right;\">\n",
              "      <th></th>\n",
              "      <th>log</th>\n",
              "      <th>speed</th>\n",
              "      <th>dominant_freq</th>\n",
              "      <th>mean_freq</th>\n",
              "      <th>std_freq</th>\n",
              "      <th>max_power</th>\n",
              "      <th>mean_power</th>\n",
              "      <th>std_power</th>\n",
              "      <th>strength</th>\n",
              "      <th>auc</th>\n",
              "      <th>sum</th>\n",
              "      <th>rut</th>\n",
              "      <th>cond</th>\n",
              "      <th>iri_18</th>\n",
              "      <th>iri</th>\n",
              "      <th>p_auc</th>\n",
              "    </tr>\n",
              "  </thead>\n",
              "  <tbody>\n",
              "    <tr>\n",
              "      <td>0</td>\n",
              "      <td>178.9</td>\n",
              "      <td>64.0</td>\n",
              "      <td>3.670280</td>\n",
              "      <td>9.656914</td>\n",
              "      <td>6.368188</td>\n",
              "      <td>4.691506</td>\n",
              "      <td>1.600944</td>\n",
              "      <td>0.633388</td>\n",
              "      <td>3.075992</td>\n",
              "      <td>26.305707</td>\n",
              "      <td>4.697125</td>\n",
              "      <td>0.1</td>\n",
              "      <td>8</td>\n",
              "      <td>44.095</td>\n",
              "      <td>39.249</td>\n",
              "      <td>0.178346</td>\n",
              "    </tr>\n",
              "    <tr>\n",
              "      <td>1</td>\n",
              "      <td>195.1</td>\n",
              "      <td>63.0</td>\n",
              "      <td>3.558968</td>\n",
              "      <td>3.192145</td>\n",
              "      <td>1.667060</td>\n",
              "      <td>4.964710</td>\n",
              "      <td>2.330130</td>\n",
              "      <td>1.140898</td>\n",
              "      <td>1.406800</td>\n",
              "      <td>17.105884</td>\n",
              "      <td>0.050277</td>\n",
              "      <td>0.1</td>\n",
              "      <td>10</td>\n",
              "      <td>42.790</td>\n",
              "      <td>39.067</td>\n",
              "      <td>0.290234</td>\n",
              "    </tr>\n",
              "    <tr>\n",
              "      <td>2</td>\n",
              "      <td>179.3</td>\n",
              "      <td>68.0</td>\n",
              "      <td>3.722092</td>\n",
              "      <td>6.420117</td>\n",
              "      <td>4.018693</td>\n",
              "      <td>4.252980</td>\n",
              "      <td>1.883453</td>\n",
              "      <td>0.774011</td>\n",
              "      <td>1.975764</td>\n",
              "      <td>21.128014</td>\n",
              "      <td>8.433567</td>\n",
              "      <td>0.1</td>\n",
              "      <td>8</td>\n",
              "      <td>37.906</td>\n",
              "      <td>43.783</td>\n",
              "      <td>0.201296</td>\n",
              "    </tr>\n",
              "    <tr>\n",
              "      <td>3</td>\n",
              "      <td>194.5</td>\n",
              "      <td>63.0</td>\n",
              "      <td>1.089862</td>\n",
              "      <td>1.125182</td>\n",
              "      <td>0.605962</td>\n",
              "      <td>5.750095</td>\n",
              "      <td>2.368251</td>\n",
              "      <td>1.338489</td>\n",
              "      <td>0.333029</td>\n",
              "      <td>6.017454</td>\n",
              "      <td>0.056850</td>\n",
              "      <td>0.1</td>\n",
              "      <td>10</td>\n",
              "      <td>30.642</td>\n",
              "      <td>31.037</td>\n",
              "      <td>0.955569</td>\n",
              "    </tr>\n",
              "    <tr>\n",
              "      <td>4</td>\n",
              "      <td>148.0</td>\n",
              "      <td>41.0</td>\n",
              "      <td>2.847452</td>\n",
              "      <td>7.281385</td>\n",
              "      <td>4.092920</td>\n",
              "      <td>4.945962</td>\n",
              "      <td>2.063636</td>\n",
              "      <td>0.921574</td>\n",
              "      <td>2.740882</td>\n",
              "      <td>27.375474</td>\n",
              "      <td>8.208811</td>\n",
              "      <td>0.1</td>\n",
              "      <td>9</td>\n",
              "      <td>47.270</td>\n",
              "      <td>45.907</td>\n",
              "      <td>0.180671</td>\n",
              "    </tr>\n",
              "    <tr>\n",
              "      <td>5</td>\n",
              "      <td>182.0</td>\n",
              "      <td>63.0</td>\n",
              "      <td>13.016299</td>\n",
              "      <td>12.220439</td>\n",
              "      <td>6.764077</td>\n",
              "      <td>7.557320</td>\n",
              "      <td>2.556943</td>\n",
              "      <td>1.299767</td>\n",
              "      <td>7.608715</td>\n",
              "      <td>62.376510</td>\n",
              "      <td>13.097585</td>\n",
              "      <td>0.1</td>\n",
              "      <td>8</td>\n",
              "      <td>34.508</td>\n",
              "      <td>37.464</td>\n",
              "      <td>0.121157</td>\n",
              "    </tr>\n",
              "    <tr>\n",
              "      <td>6</td>\n",
              "      <td>179.8</td>\n",
              "      <td>69.0</td>\n",
              "      <td>3.590399</td>\n",
              "      <td>6.907244</td>\n",
              "      <td>4.026776</td>\n",
              "      <td>3.844763</td>\n",
              "      <td>1.678037</td>\n",
              "      <td>0.663981</td>\n",
              "      <td>2.482747</td>\n",
              "      <td>22.494293</td>\n",
              "      <td>9.168638</td>\n",
              "      <td>0.1</td>\n",
              "      <td>8</td>\n",
              "      <td>36.099</td>\n",
              "      <td>34.163</td>\n",
              "      <td>0.170922</td>\n",
              "    </tr>\n",
              "    <tr>\n",
              "      <td>7</td>\n",
              "      <td>181.9</td>\n",
              "      <td>66.0</td>\n",
              "      <td>3.284562</td>\n",
              "      <td>10.183802</td>\n",
              "      <td>6.118100</td>\n",
              "      <td>7.401651</td>\n",
              "      <td>2.651264</td>\n",
              "      <td>1.327435</td>\n",
              "      <td>6.473035</td>\n",
              "      <td>54.884308</td>\n",
              "      <td>16.242243</td>\n",
              "      <td>0.1</td>\n",
              "      <td>8</td>\n",
              "      <td>35.485</td>\n",
              "      <td>38.453</td>\n",
              "      <td>0.134859</td>\n",
              "    </tr>\n",
              "    <tr>\n",
              "      <td>8</td>\n",
              "      <td>195.7</td>\n",
              "      <td>64.0</td>\n",
              "      <td>0.534669</td>\n",
              "      <td>1.304358</td>\n",
              "      <td>0.781793</td>\n",
              "      <td>5.100398</td>\n",
              "      <td>2.277936</td>\n",
              "      <td>1.145147</td>\n",
              "      <td>0.355254</td>\n",
              "      <td>6.268786</td>\n",
              "      <td>0.061880</td>\n",
              "      <td>0.1</td>\n",
              "      <td>9</td>\n",
              "      <td>69.657</td>\n",
              "      <td>48.087</td>\n",
              "      <td>0.813618</td>\n",
              "    </tr>\n",
              "    <tr>\n",
              "      <td>9</td>\n",
              "      <td>173.2</td>\n",
              "      <td>66.0</td>\n",
              "      <td>3.662532</td>\n",
              "      <td>8.081948</td>\n",
              "      <td>4.695423</td>\n",
              "      <td>5.569078</td>\n",
              "      <td>2.143309</td>\n",
              "      <td>0.904476</td>\n",
              "      <td>3.759960</td>\n",
              "      <td>34.757424</td>\n",
              "      <td>13.432748</td>\n",
              "      <td>0.1</td>\n",
              "      <td>8</td>\n",
              "      <td>47.731</td>\n",
              "      <td>49.527</td>\n",
              "      <td>0.160227</td>\n",
              "    </tr>\n",
              "  </tbody>\n",
              "</table>\n",
              "</div>"
            ],
            "text/plain": [
              "     log  speed  dominant_freq  mean_freq  std_freq  max_power  mean_power  \\\n",
              "0  178.9   64.0       3.670280   9.656914  6.368188   4.691506    1.600944   \n",
              "1  195.1   63.0       3.558968   3.192145  1.667060   4.964710    2.330130   \n",
              "2  179.3   68.0       3.722092   6.420117  4.018693   4.252980    1.883453   \n",
              "3  194.5   63.0       1.089862   1.125182  0.605962   5.750095    2.368251   \n",
              "4  148.0   41.0       2.847452   7.281385  4.092920   4.945962    2.063636   \n",
              "5  182.0   63.0      13.016299  12.220439  6.764077   7.557320    2.556943   \n",
              "6  179.8   69.0       3.590399   6.907244  4.026776   3.844763    1.678037   \n",
              "7  181.9   66.0       3.284562  10.183802  6.118100   7.401651    2.651264   \n",
              "8  195.7   64.0       0.534669   1.304358  0.781793   5.100398    2.277936   \n",
              "9  173.2   66.0       3.662532   8.081948  4.695423   5.569078    2.143309   \n",
              "\n",
              "   std_power  strength        auc        sum  rut  cond  iri_18     iri  \\\n",
              "0   0.633388  3.075992  26.305707   4.697125  0.1     8  44.095  39.249   \n",
              "1   1.140898  1.406800  17.105884   0.050277  0.1    10  42.790  39.067   \n",
              "2   0.774011  1.975764  21.128014   8.433567  0.1     8  37.906  43.783   \n",
              "3   1.338489  0.333029   6.017454   0.056850  0.1    10  30.642  31.037   \n",
              "4   0.921574  2.740882  27.375474   8.208811  0.1     9  47.270  45.907   \n",
              "5   1.299767  7.608715  62.376510  13.097585  0.1     8  34.508  37.464   \n",
              "6   0.663981  2.482747  22.494293   9.168638  0.1     8  36.099  34.163   \n",
              "7   1.327435  6.473035  54.884308  16.242243  0.1     8  35.485  38.453   \n",
              "8   1.145147  0.355254   6.268786   0.061880  0.1     9  69.657  48.087   \n",
              "9   0.904476  3.759960  34.757424  13.432748  0.1     8  47.731  49.527   \n",
              "\n",
              "      p_auc  \n",
              "0  0.178346  \n",
              "1  0.290234  \n",
              "2  0.201296  \n",
              "3  0.955569  \n",
              "4  0.180671  \n",
              "5  0.121157  \n",
              "6  0.170922  \n",
              "7  0.134859  \n",
              "8  0.813618  \n",
              "9  0.160227  "
            ]
          },
          "metadata": {
            "tags": []
          },
          "execution_count": 32
        }
      ]
    },
    {
      "cell_type": "code",
      "metadata": {
        "id": "w-57XcD37Mh3"
      },
      "source": [
        "def predict_single_record(m, row):\n",
        "    single_record = [np.array(i)[None] for i in row]\n",
        "    return predict(m.model,[single_record])"
      ],
      "execution_count": null,
      "outputs": []
    },
    {
      "cell_type": "code",
      "metadata": {
        "id": "YEBJfHhU7Mh3",
        "outputId": "2dede562-13f4-4e78-83b9-2641cd302e64"
      },
      "source": [
        "iri_vals = df_test_ori['iri'].values\n",
        "pred_vals = []\n",
        "errors = []\n",
        "for cur_row,ori in zip(m.data.test_ds,iri_vals):\n",
        "    predictions = np.exp(predict_single_record(m,cur_row))[0][0]\n",
        "    errors.append(math.sqrt((ori-predictions)**2))\n",
        "    pred_vals.append(predictions)\n",
        "\n",
        "print ('sum of prediction errors: ' + str(np.mean(errors)))\n",
        "fig= plt.figure()\n",
        "plt.plot(iri_vals,'k',label='true')\n",
        "plt.plot(pred_vals,'r', label='predicted')\n",
        "plt.legend(loc=\"upper left\")\n",
        "plt.show()\n",
        "fig.savefig('try1.png')\n",
        "\n",
        "fig= plt.figure()\n",
        "plt.plot(errors)\n",
        "plt.show()\n",
        "fig.savefig('try2.png')\n",
        "\n",
        "\n"
      ],
      "execution_count": null,
      "outputs": [
        {
          "output_type": "stream",
          "text": [
            "sum of prediction errors: 5.564470739067925\n"
          ],
          "name": "stdout"
        },
        {
          "output_type": "display_data",
          "data": {
            "image/png": "[encoded data removed]",
            "text/plain": [
              "<Figure size 432x288 with 1 Axes>"
            ]
          },
          "metadata": {
            "tags": [],
            "needs_background": "light"
          }
        },
        {
          "output_type": "display_data",
          "data": {
            "image/png": "[encoded data removed]",
            "text/plain": [
              "<Figure size 432x288 with 1 Axes>"
            ]
          },
          "metadata": {
            "tags": [],
            "needs_background": "light"
          }
        }
      ]
    },
    {
      "cell_type": "code",
      "metadata": {
        "id": "PY5AIGmg7Mh5"
      },
      "source": [
        ""
      ],
      "execution_count": null,
      "outputs": []
    }
  ]
}